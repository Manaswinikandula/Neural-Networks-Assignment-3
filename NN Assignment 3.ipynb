{
 "cells": [
  {
   "cell_type": "code",
   "execution_count": 2,
   "id": "4d91af83",
   "metadata": {},
   "outputs": [
    {
     "name": "stdout",
     "output_type": "stream",
     "text": [
      "The count of an employee is\t\t: 4\n",
      "Average salary of an employee is: 157500.0\n"
     ]
    }
   ],
   "source": [
    "class Employee:\n",
    "\n",
    "   \n",
    "    count_of_employees = 0\n",
    "    __name=\"\"\n",
    "    __family=\"\"\n",
    "    __salary=0\n",
    "    __department=\"\"\n",
    "\n",
    "    \n",
    "    def __init__(self, name, family, salary, department):\n",
    "        self.__name = name\n",
    "        self.__family = family\n",
    "        self.salary = salary\n",
    "        self.__department = department\n",
    "        Employee.count_of_employees += 1 \n",
    "\n",
    "    \n",
    "    def average_salary(employees):\n",
    "        total = 0\n",
    "        for employee in employees:\n",
    "            total += employee.salary\n",
    "        return total / Employee.count_of_employees\n",
    "    \n",
    "    \n",
    "    def showData(self):\n",
    "        print(\"The count of an employee is\\t\\t:\",Employee.count_of_employees)\n",
    "        \n",
    "class FulltimeEmployee(Employee):\n",
    "    def __init__(self, name, family, salary, department):\n",
    "        super().__init__(name, family, salary, department)\n",
    "\n",
    "def main():\n",
    "    employees = []\n",
    "    one = FulltimeEmployee(\"Manaswini\", \"fam-Kandula\", 140000, \"Sales Representative\") \n",
    "    employees.append(one)  \n",
    "    two = FulltimeEmployee(\"Mallikarjuna\", \"fam-Nagendla\", 160000, \"Engineer\")\n",
    "    employees.append(two)\n",
    "    three = Employee(\"Pallavi\", \"fam-Panguluri\", 150000, \"Doctor\")\n",
    "    employees.append(three)\n",
    "    four = Employee(\"Chanadana\", \"Fam-pamidimukkala\", 180000, \"Lawyer\")\n",
    "    employees.append(four)\n",
    "    Employee.showData(employees) \n",
    "    print(\"Average salary of an employee is:\", FulltimeEmployee.average_salary(employees))\n",
    "\n",
    "if __name__ == \"__main__\":\n",
    "    main()"
   ]
  },
  {
   "cell_type": "code",
   "execution_count": 3,
   "id": "29eb6628",
   "metadata": {},
   "outputs": [
    {
     "name": "stdout",
     "output_type": "stream",
     "text": [
      "[15.09037662 13.20958917  9.4430766   6.32109961 20.03582046  9.89646978\n",
      " 11.03917324 19.31999537  8.39002907 15.89920161  4.3478874   5.8770437\n",
      "  5.38971374  7.92228437 13.05184776  4.45780458 17.94316171 18.39051822\n",
      " 17.04310406  9.66067467]\n",
      "[[15.09037662 13.20958917  9.4430766   6.32109961 20.03582046]\n",
      " [ 9.89646978 11.03917324 19.31999537  8.39002907 15.89920161]\n",
      " [ 4.3478874   5.8770437   5.38971374  7.92228437 13.05184776]\n",
      " [ 4.45780458 17.94316171 18.39051822 17.04310406  9.66067467]]\n",
      "[[15.09037662 13.20958917  9.4430766   6.32109961  0.        ]\n",
      " [ 9.89646978 11.03917324  0.          8.39002907 15.89920161]\n",
      " [ 4.3478874   5.8770437   5.38971374  7.92228437  0.        ]\n",
      " [ 4.45780458 17.94316171  0.         17.04310406  9.66067467]]\n"
     ]
    }
   ],
   "source": [
    "import numpy as np\n",
    "\n",
    "def replace_maxmium(array, replace_value, axis):\n",
    "    result = np.where(array == np.max(\n",
    "        array, axis=1).reshape(-1, 1), 0 * array, array)\n",
    "    print(result)\n",
    "\n",
    "\n",
    "def main():\n",
    "\n",
    "    rand20 = np.random.random_sample(20) * 20 + 1\n",
    "    print(rand20)\n",
    "    \n",
    "    rand20_4by5 = rand20.reshape((4, 5))\n",
    "    print(rand20_4by5)\n",
    "\n",
    "    replace_maxmium(rand20_4by5, 0, 1)\n",
    "\n",
    "if __name__ == \"__main__\":\n",
    "    main()"
   ]
  },
  {
   "cell_type": "code",
   "execution_count": null,
   "id": "0947c752",
   "metadata": {},
   "outputs": [],
   "source": []
  }
 ],
 "metadata": {
  "kernelspec": {
   "display_name": "Python 3 (ipykernel)",
   "language": "python",
   "name": "python3"
  },
  "language_info": {
   "codemirror_mode": {
    "name": "ipython",
    "version": 3
   },
   "file_extension": ".py",
   "mimetype": "text/x-python",
   "name": "python",
   "nbconvert_exporter": "python",
   "pygments_lexer": "ipython3",
   "version": "3.11.4"
  }
 },
 "nbformat": 4,
 "nbformat_minor": 5
}
